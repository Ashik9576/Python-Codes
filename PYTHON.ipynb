{
  "nbformat": 4,
  "nbformat_minor": 0,
  "metadata": {
    "colab": {
      "name": "PYTHON",
      "provenance": [],
      "collapsed_sections": [],
      "authorship_tag": "ABX9TyNTNShvYbAvd52p0Hu4jzhH",
      "include_colab_link": true
    },
    "kernelspec": {
      "name": "python3",
      "display_name": "Python 3"
    },
    "language_info": {
      "name": "python"
    }
  },
  "cells": [
    {
      "cell_type": "markdown",
      "metadata": {
        "id": "view-in-github",
        "colab_type": "text"
      },
      "source": [
        "<a href=\"https://colab.research.google.com/github/Ashik9576/Python-Codes/blob/main/PYTHON.ipynb\" target=\"_parent\"><img src=\"https://colab.research.google.com/assets/colab-badge.svg\" alt=\"Open In Colab\"/></a>"
      ]
    },
    {
      "cell_type": "markdown",
      "source": [
        "1. Python program to print all positive numbers in a range\n",
        "* Given start and end of a range, write a Python program to print all positive numbers in given range."
      ],
      "metadata": {
        "id": "_R7ytQ-GrK0h"
      }
    },
    {
      "cell_type": "code",
      "execution_count": 1,
      "metadata": {
        "colab": {
          "base_uri": "https://localhost:8080/"
        },
        "id": "pAOoAudlqnwV",
        "outputId": "bf301f8f-dff1-406e-a988-1edc152e3d5f"
      },
      "outputs": [
        {
          "output_type": "stream",
          "name": "stdout",
          "text": [
            "0 1 2 3 4 5 6 7 8 9 10 11 12 13 14 15 16 17 18 19 "
          ]
        }
      ],
      "source": [
        "# Python program to print positive Numbers in given range\n",
        "  \n",
        "start, end = -4, 19\n",
        "  \n",
        "# iterating each number in list\n",
        "for num in range(start, end + 1):\n",
        "      \n",
        "    # checking condition\n",
        "    if num >= 0:\n",
        "        print(num, end = \" \")"
      ]
    },
    {
      "cell_type": "markdown",
      "source": [
        "2. Remove empty tuples from a list"
      ],
      "metadata": {
        "id": "BEkxE67PrmlV"
      }
    },
    {
      "cell_type": "code",
      "source": [
        "# Python program to remove empty tuples from a \n",
        "# list of tuples function to remove empty tuples \n",
        "# using list comprehension\n",
        "def Remove(tuples):\n",
        "    tuples = [t for t in tuples if t]\n",
        "    return tuples\n",
        "  \n",
        "# Driver Code\n",
        "tuples = [(), ('ram','15','8'), (), ('laxman', 'sita'), \n",
        "          ('krishna', 'akbar', '45'), ('',''),()]\n",
        "print(Remove(tuples))"
      ],
      "metadata": {
        "colab": {
          "base_uri": "https://localhost:8080/"
        },
        "id": "XXRVpFkHrbwk",
        "outputId": "4e9b472e-2e84-4d29-836e-d1c810f11131"
      },
      "execution_count": 2,
      "outputs": [
        {
          "output_type": "stream",
          "name": "stdout",
          "text": [
            "[('ram', '15', '8'), ('laxman', 'sita'), ('krishna', 'akbar', '45'), ('', '')]\n"
          ]
        }
      ]
    },
    {
      "cell_type": "code",
      "source": [
        ""
      ],
      "metadata": {
        "id": "3nxf8Dqqr4Ai"
      },
      "execution_count": null,
      "outputs": []
    }
  ]
}
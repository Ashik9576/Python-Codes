{
  "nbformat": 4,
  "nbformat_minor": 0,
  "metadata": {
    "colab": {
      "name": "PYTHON",
      "provenance": [],
      "collapsed_sections": [],
      "authorship_tag": "ABX9TyNXN2csJzi71VpVNlZphbDy",
      "include_colab_link": true
    },
    "kernelspec": {
      "name": "python3",
      "display_name": "Python 3"
    },
    "language_info": {
      "name": "python"
    }
  },
  "cells": [
    {
      "cell_type": "markdown",
      "metadata": {
        "id": "view-in-github",
        "colab_type": "text"
      },
      "source": [
        "<a href=\"https://colab.research.google.com/github/Ashik9576/Python-Codes/blob/main/PYTHON.ipynb\" target=\"_parent\"><img src=\"https://colab.research.google.com/assets/colab-badge.svg\" alt=\"Open In Colab\"/></a>"
      ]
    },
    {
      "cell_type": "markdown",
      "source": [
        "1. Python program to print all positive numbers in a range\n",
        "* Given start and end of a range, write a Python program to print all positive numbers in given range."
      ],
      "metadata": {
        "id": "_R7ytQ-GrK0h"
      }
    },
    {
      "cell_type": "code",
      "execution_count": 1,
      "metadata": {
        "colab": {
          "base_uri": "https://localhost:8080/"
        },
        "id": "pAOoAudlqnwV",
        "outputId": "bf301f8f-dff1-406e-a988-1edc152e3d5f"
      },
      "outputs": [
        {
          "output_type": "stream",
          "name": "stdout",
          "text": [
            "0 1 2 3 4 5 6 7 8 9 10 11 12 13 14 15 16 17 18 19 "
          ]
        }
      ],
      "source": [
        "# Python program to print positive Numbers in given range\n",
        "  \n",
        "start, end = -4, 19\n",
        "  \n",
        "# iterating each number in list\n",
        "for num in range(start, end + 1):\n",
        "      \n",
        "    # checking condition\n",
        "    if num >= 0:\n",
        "        print(num, end = \" \")"
      ]
    },
    {
      "cell_type": "code",
      "source": [
        ""
      ],
      "metadata": {
        "id": "XXRVpFkHrbwk"
      },
      "execution_count": null,
      "outputs": []
    }
  ]
}
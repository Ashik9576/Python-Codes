{
  "nbformat": 4,
  "nbformat_minor": 0,
  "metadata": {
    "colab": {
      "name": "PYTHON",
      "provenance": [],
      "collapsed_sections": [],
      "authorship_tag": "ABX9TyNxAVuXqNC0hqXybT222412",
      "include_colab_link": true
    },
    "kernelspec": {
      "name": "python3",
      "display_name": "Python 3"
    },
    "language_info": {
      "name": "python"
    }
  },
  "cells": [
    {
      "cell_type": "markdown",
      "metadata": {
        "id": "view-in-github",
        "colab_type": "text"
      },
      "source": [
        "<a href=\"https://colab.research.google.com/github/Ashik9576/Python-Codes/blob/main/PYTHON.ipynb\" target=\"_parent\"><img src=\"https://colab.research.google.com/assets/colab-badge.svg\" alt=\"Open In Colab\"/></a>"
      ]
    },
    {
      "cell_type": "markdown",
      "source": [
        "1. Python program to print all positive numbers in a range\n",
        "* Given start and end of a range, write a Python program to print all positive numbers in given range."
      ],
      "metadata": {
        "id": "_R7ytQ-GrK0h"
      }
    },
    {
      "cell_type": "code",
      "execution_count": null,
      "metadata": {
        "colab": {
          "base_uri": "https://localhost:8080/"
        },
        "id": "pAOoAudlqnwV",
        "outputId": "bf301f8f-dff1-406e-a988-1edc152e3d5f"
      },
      "outputs": [
        {
          "output_type": "stream",
          "name": "stdout",
          "text": [
            "0 1 2 3 4 5 6 7 8 9 10 11 12 13 14 15 16 17 18 19 "
          ]
        }
      ],
      "source": [
        "# Python program to print positive Numbers in given range\n",
        "  \n",
        "start, end = -4, 19\n",
        "  \n",
        "# iterating each number in list\n",
        "for num in range(start, end + 1):\n",
        "      \n",
        "    # checking condition\n",
        "    if num >= 0:\n",
        "        print(num, end = \" \")"
      ]
    },
    {
      "cell_type": "markdown",
      "source": [
        "2. Remove empty tuples from a list"
      ],
      "metadata": {
        "id": "BEkxE67PrmlV"
      }
    },
    {
      "cell_type": "code",
      "source": [
        "# Python program to remove empty tuples from a \n",
        "# list of tuples function to remove empty tuples \n",
        "# using list comprehension\n",
        "def Remove(tuples):\n",
        "    tuples = [t for t in tuples if t]\n",
        "    return tuples\n",
        "  \n",
        "# Driver Code\n",
        "tuples = [(), ('ram','15','8'), (), ('laxman', 'sita'), \n",
        "          ('krishna', 'akbar', '45'), ('',''),()]\n",
        "print(Remove(tuples))"
      ],
      "metadata": {
        "colab": {
          "base_uri": "https://localhost:8080/"
        },
        "id": "XXRVpFkHrbwk",
        "outputId": "4e9b472e-2e84-4d29-836e-d1c810f11131"
      },
      "execution_count": null,
      "outputs": [
        {
          "output_type": "stream",
          "name": "stdout",
          "text": [
            "[('ram', '15', '8'), ('laxman', 'sita'), ('krishna', 'akbar', '45'), ('', '')]\n"
          ]
        }
      ]
    },
    {
      "cell_type": "markdown",
      "source": [
        "3. How to count unique values inside a list using counter"
      ],
      "metadata": {
        "id": "5xYI0PRU5b-2"
      }
    },
    {
      "cell_type": "code",
      "source": [
        "# importing Counter module\n",
        "from collections import Counter\n",
        "  \n",
        "  \n",
        "input_list = [1, 2, 2, 5, 8, 4, 4, 8]\n",
        "  \n",
        "# creating a list with the keys\n",
        "items = Counter(input_list).keys()\n",
        "print(\"No of unique items in the list are:\", len(items))"
      ],
      "metadata": {
        "id": "3nxf8Dqqr4Ai",
        "colab": {
          "base_uri": "https://localhost:8080/"
        },
        "outputId": "00aaa364-b274-4e58-daa1-5db0e2f0080f"
      },
      "execution_count": 3,
      "outputs": [
        {
          "output_type": "stream",
          "name": "stdout",
          "text": [
            "No of unique items in the list are: 5\n"
          ]
        }
      ]
    },
    {
      "cell_type": "markdown",
      "source": [
        "4. Extract elements with Frequency greater than K"
      ],
      "metadata": {
        "id": "xmkr7bel5mnj"
      }
    },
    {
      "cell_type": "code",
      "source": [
        "# Python3 code to demonstrate working of\n",
        "# Retain records with N occurrences of K\n",
        "# Using count() + list comprehension\n",
        " \n",
        "# initializing list\n",
        "test_list = [(4, 5, 6, 4, 4), (4, 4, 3), (4, 4, 4), (3, 4, 9)]\n",
        " \n",
        "# printing original list\n",
        "print(\"The original list is : \" + str(test_list))\n",
        " \n",
        "# initializing K\n",
        "K = 4\n",
        " \n",
        "# initializing N\n",
        "N = 3\n",
        " \n",
        "# Retain records with N occurrences of K\n",
        "# Using count() + list comprehension\n",
        "res = [ele for ele in test_list if ele.count(K) == N]\n",
        " \n",
        "# printing result\n",
        "print(\"Filtered tuples : \" + str(res))"
      ],
      "metadata": {
        "colab": {
          "base_uri": "https://localhost:8080/"
        },
        "id": "4hZARM8O5jxC",
        "outputId": "b5f647b9-a2c3-4daf-a4e0-f5de53086719"
      },
      "execution_count": 4,
      "outputs": [
        {
          "output_type": "stream",
          "name": "stdout",
          "text": [
            "The original list is : [(4, 5, 6, 4, 4), (4, 4, 3), (4, 4, 4), (3, 4, 9)]\n",
            "Filtered tuples : [(4, 5, 6, 4, 4), (4, 4, 4)]\n"
          ]
        }
      ]
    },
    {
      "cell_type": "code",
      "source": [
        ""
      ],
      "metadata": {
        "id": "NtucOyxe6Bdl"
      },
      "execution_count": null,
      "outputs": []
    }
  ]
}